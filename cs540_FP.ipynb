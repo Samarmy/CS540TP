{
 "cells": [
  {
   "cell_type": "code",
   "execution_count": 1,
   "metadata": {},
   "outputs": [],
   "source": [
    "import os\n",
    "import nltk\n",
    "import io\n",
    "\n",
    "# you'll need to run nltk.download() and download all packages\n",
    "#nltk.download_shell()\n",
    "#nltk.data.path.append('D:\\\\JacobSchool\\\\CS540\\\\nltk_data')\n",
    "from nltk.corpus import stopwords"
   ]
  },
  {
   "cell_type": "code",
   "execution_count": 2,
   "metadata": {},
   "outputs": [],
   "source": [
    "from nltk.tokenize import sent_tokenize, word_tokenize"
   ]
  },
  {
   "cell_type": "markdown",
   "metadata": {},
   "source": [
    "Sets from http://www.iaees.org/publications/journals/selforganizology/articles/2016-3(3)/algorithm-to-transform-natural-language-into-SQL-queries.pdf\n",
    "Escape Word Set<br/>\n",
    "Expression Mapping Set<br/>\n",
    "Noun Set<br/>\n",
    "Verb Set<br/>\n",
    "Semantic Set<br/>\n",
    "Variable Set<br/>\n",
    "Relation Set<br/>\n",
    "Attribute Set<br/>\n",
    "Conjunction Set<br/>\n",
    "This is all the sets for words and rules:"
   ]
  },
  {
   "cell_type": "code",
   "execution_count": 3,
   "metadata": {},
   "outputs": [],
   "source": [
    "escape_words = set(stopwords.words('english'))#[\"a\", \"an\", \"the\", \"which\", \"is\", \"of\", \"with\", \"to\", \"for\", \"are\", \"and\", \"should\", \"be\"]\n",
    "#escape_words.sort()\n",
    "\n",
    "rules_on_top_of = []\n",
    "\n",
    "rules_side_by_side = []\n",
    "\n",
    "nouns = [\"block1\", \"block2\", \"block3\", \"block4\", \"block5\", \"block6\"]\n",
    "\n",
    "verbs = [\"on top of\", \"side by side\", \"next to\", \"side of\", \"above\", \"below\", \"neighbor\", \"beside\"]"
   ]
  },
  {
   "cell_type": "code",
   "execution_count": 8,
   "metadata": {},
   "outputs": [
    {
     "name": "stdout",
     "output_type": "stream",
     "text": [
      "['Block6 should be on top of block4.', 'Block3 needs to be side by side with block2.', 'Block1 is red.', 'Block5 above Block6.']\n",
      "['block6', 'should', 'be', 'on', 'top', 'of', 'block4']\n",
      "['block3', 'needs', 'to', 'be', 'side', 'by', 'side', 'with', 'block2']\n",
      "['block1', 'is', 'red']\n",
      "['block5', 'above', 'block6']\n"
     ]
    }
   ],
   "source": [
    "commandFile = open(\"table1.txt\") \n",
    "data = commandFile.read()# Use this to read file content as a stream: \n",
    "\n",
    "sentences = sent_tokenize(data)\n",
    "print(sentences)\n",
    "\n",
    "for sentence in sentences:\n",
    "    words = word_tokenize(sentence)\n",
    "    temp = []\n",
    "    for w in words:\n",
    "        temp.append(w.lower())\n",
    "    words = temp[0:-1]\n",
    "    print(words)"
   ]
  },
  {
   "cell_type": "code",
   "execution_count": null,
   "metadata": {},
   "outputs": [],
   "source": []
  }
 ],
 "metadata": {
  "kernelspec": {
   "display_name": "Python 3",
   "language": "python",
   "name": "python3"
  },
  "language_info": {
   "codemirror_mode": {
    "name": "ipython",
    "version": 3
   },
   "file_extension": ".py",
   "mimetype": "text/x-python",
   "name": "python",
   "nbconvert_exporter": "python",
   "pygments_lexer": "ipython3",
   "version": "3.6.5"
  }
 },
 "nbformat": 4,
 "nbformat_minor": 2
}
